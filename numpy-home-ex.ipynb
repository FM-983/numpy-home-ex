{
 "cells": [
  {
   "cell_type": "code",
   "execution_count": 26,
   "id": "5b7b53a4-ed59-405c-9f4d-96c0e12ffd9f",
   "metadata": {},
   "outputs": [],
   "source": [
    "import numpy as np \n",
    "import pandas as pd\n",
    "np.random.seed(42)"
   ]
  },
  {
   "cell_type": "markdown",
   "id": "5a13a043-d7e1-4f47-9f3a-624817273ae1",
   "metadata": {},
   "source": [
    "## Exercise 1:\n",
    "1. Create a NumPy array of size 4x3 and filled with random numbers from 10 to\n",
    "98 (inclusive). Calculate the sum of all elements, the sum of each row and\n",
    "each column."
   ]
  },
  {
   "cell_type": "code",
   "execution_count": 74,
   "id": "ee505f7c-349a-4943-a68d-fb112c7ea035",
   "metadata": {},
   "outputs": [
    {
     "name": "stdout",
     "output_type": "stream",
     "text": [
      "[[71 60 64]\n",
      " [73 12 60]\n",
      " [16 30 82]\n",
      " [48 27 13]]\n",
      "Sum of all elements: 556\n",
      "Sum of each row : [195 145 128  88]\n",
      "Sum of each column : [208 129 219]\n"
     ]
    }
   ],
   "source": [
    "np_random_array = np.random.randint(10,99,(4,3))\n",
    "print(np_random_array)\n",
    "\n",
    "print(f\"Sum of all elements: {np_random_array.sum()}\")\n",
    "print(f\"Sum of each row : {np_random_array.sum(axis=1)}\")\n",
    "print(f\"Sum of each column : {np_random_array.sum(axis=0)}\")\n",
    "\n",
    "      "
   ]
  },
  {
   "cell_type": "markdown",
   "id": "f32d3669-ce7f-4758-ba01-8673bc147854",
   "metadata": {},
   "source": [
    "## Exercise 2:\n",
    "1. Create a NumPy array of size 10 filled with random numbers from 0 to 10.\n",
    "Count how many of them are even numbers."
   ]
  },
  {
   "cell_type": "code",
   "execution_count": 134,
   "id": "98aafc40-7544-435e-b919-a8a8f52f11c9",
   "metadata": {},
   "outputs": [
    {
     "name": "stdout",
     "output_type": "stream",
     "text": [
      "[ 7  0 10  0  1  1  5  6  4  0]\n",
      "6\n"
     ]
    }
   ],
   "source": [
    "random_array = np.random.randint(0,11,10)\n",
    "print(random_array)\n",
    "even = random_array % 2 == 0 \n",
    "print(even.sum())"
   ]
  },
  {
   "cell_type": "markdown",
   "id": "52d50fdd-0f02-4196-a28e-a35fb3396409",
   "metadata": {},
   "source": [
    "Exercise 3:\n",
    "1. Create a NumPy array of size 100, filled with a sequence of numbers from 0\n",
    "to 99.\n",
    "2. Reshape this array into 10 rows and 10 columns.\n",
    " \n",
    "3. Replace all values in the array which are greater than 50 with -1.\n",
    "\n",
    "4. Calculate the sum of all elements in the array.\n",
    "\n",
    "5. Calculate the mean of all elements in the array"
   ]
  },
  {
   "cell_type": "code",
   "execution_count": 180,
   "id": "ef9c6a8f-8e5c-4896-9a97-ed3b72ef5780",
   "metadata": {},
   "outputs": [
    {
     "name": "stdout",
     "output_type": "stream",
     "text": [
      "[ 0  1  2  3  4  5  6  7  8  9 10 11 12 13 14 15 16 17 18 19 20 21 22 23\n",
      " 24 25 26 27 28 29 30 31 32 33 34 35 36 37 38 39 40 41 42 43 44 45 46 47\n",
      " 48 49 50 51 52 53 54 55 56 57 58 59 60 61 62 63 64 65 66 67 68 69 70 71\n",
      " 72 73 74 75 76 77 78 79 80 81 82 83 84 85 86 87 88 89 90 91 92 93 94 95\n",
      " 96 97 98 99]\n",
      "[[ 0  1  2  3  4  5  6  7  8  9]\n",
      " [10 11 12 13 14 15 16 17 18 19]\n",
      " [20 21 22 23 24 25 26 27 28 29]\n",
      " [30 31 32 33 34 35 36 37 38 39]\n",
      " [40 41 42 43 44 45 46 47 48 49]\n",
      " [50 -1 -1 -1 -1 -1 -1 -1 -1 -1]\n",
      " [-1 -1 -1 -1 -1 -1 -1 -1 -1 -1]\n",
      " [-1 -1 -1 -1 -1 -1 -1 -1 -1 -1]\n",
      " [-1 -1 -1 -1 -1 -1 -1 -1 -1 -1]\n",
      " [-1 -1 -1 -1 -1 -1 -1 -1 -1 -1]]\n",
      "Sum of all elements in the array : 1226\n",
      "Mean of all elements in the array : 12.26\n"
     ]
    }
   ],
   "source": [
    "np_array = np.arange(0,100)\n",
    "print(np_array)\n",
    "reshape_array = np_array.reshape(10,10)\n",
    "reshape_array[reshape_array > 50] = -1\n",
    "print(reshape_array)\n",
    "print(f\"Sum of all elements in the array : {reshape_array.sum()}\")\n",
    "print(f\"Mean of all elements in the array : {reshape_array.mean()}\")"
   ]
  },
  {
   "cell_type": "markdown",
   "id": "f3947972-c38f-425b-b3dc-bec69ef19328",
   "metadata": {},
   "source": [
    "## Exercise 4:\n",
    "1. Create an array of 10 elements with numbers between 0 -100 with the same\n",
    "space between each element.\n",
    "2. Generate a new array that has all values from the previous array that are\n",
    "greater than 50 or lower than 20.\n",
    "3. Reshape the array to a matrix array possible, (for example if its possible to\n",
    "reshape the array to 4X3 matrix generate it)"
   ]
  },
  {
   "cell_type": "code",
   "execution_count": 74,
   "id": "db9e8d6e-c9d5-48ed-bd6f-1f6107851427",
   "metadata": {},
   "outputs": [
    {
     "name": "stdout",
     "output_type": "stream",
     "text": [
      "First array : [  0.          11.11111111  22.22222222  33.33333333  44.44444444\n",
      "  55.55555556  66.66666667  77.77777778  88.88888889 100.        ]\n",
      "New array : [  0.          11.11111111  55.55555556  66.66666667  77.77777778\n",
      "  88.88888889 100.        ] \n",
      "not possible to reshape a array whit : 7 elements \n"
     ]
    }
   ],
   "source": [
    "lin_array = np.linspace(0, 100, 10)\n",
    "print(f'First array : {lin_array}')\n",
    "new_lin_array = lin_array[(lin_array > 50 )|(lin_array < 20)].copy()\n",
    "print(f\"New array : {new_lin_array} \")\n",
    "\n",
    "def array_dreshaped(new_lin_array):\n",
    "    try:\n",
    "        new_lin_array =  new_lin_array.reshape(2,-1)  \n",
    "    except ValueError:\n",
    "        print(f\"not possible to reshape a array whit : {new_lin_array.size} elements \")\n",
    "    \n",
    "\n",
    "array_dreshaped(new_lin_array)\n",
    "\n",
    "\n",
    "\n"
   ]
  },
  {
   "cell_type": "markdown",
   "id": "cc0b9c02-3c7c-458a-b139-511385a5db3a",
   "metadata": {},
   "source": [
    "## Exercise 5:\n",
    "1. Generate a matrix of 4x4 filled with 0, make sure the type of them is int type.\n",
    "2. Change the first element, the last element and the center element to a\n",
    "different random value between 10 - 100."
   ]
  },
  {
   "cell_type": "code",
   "execution_count": 190,
   "id": "1abfb4c2-97a1-4919-afbc-2af69062ab7d",
   "metadata": {},
   "outputs": [
    {
     "name": "stdout",
     "output_type": "stream",
     "text": [
      "[[0 0 0 0]\n",
      " [0 0 0 0]\n",
      " [0 0 0 0]\n",
      " [0 0 0 0]]\n"
     ]
    },
    {
     "data": {
      "text/plain": [
       "array([[80,  0,  0,  0],\n",
       "       [ 0, 38, 22,  0],\n",
       "       [ 0, 45, 41,  0],\n",
       "       [ 0,  0,  0, 68]])"
      ]
     },
     "execution_count": 190,
     "metadata": {},
     "output_type": "execute_result"
    }
   ],
   "source": [
    "np_zeros = np.zeros((4,4),dtype= int)\n",
    "print(np_zeros)\n",
    "\n",
    "\n",
    "def change_values_random(matrix):\n",
    "    indexes = [(0, 0), (3, 3)]\n",
    "    matrix[1:3, 1] = np.random.randint(10, 101, size=(1,2))\n",
    "    matrix[1:3, 2] = np.random.randint(10, 101, size=(1,2))\n",
    "    for row, col in indexes:\n",
    "        np_zeros[row,col] = np.random.randint(10,101)\n",
    "    return np_zeros\n",
    "\n",
    "change_values_random(np_zeros)"
   ]
  }
 ],
 "metadata": {
  "kernelspec": {
   "display_name": "Python 3 (ipykernel)",
   "language": "python",
   "name": "python3"
  },
  "language_info": {
   "codemirror_mode": {
    "name": "ipython",
    "version": 3
   },
   "file_extension": ".py",
   "mimetype": "text/x-python",
   "name": "python",
   "nbconvert_exporter": "python",
   "pygments_lexer": "ipython3",
   "version": "3.12.7"
  }
 },
 "nbformat": 4,
 "nbformat_minor": 5
}
